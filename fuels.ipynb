{
  "nbformat": 4,
  "nbformat_minor": 0,
  "metadata": {
    "colab": {
      "provenance": [],
      "authorship_tag": "ABX9TyOVvB3bPAGWehN1+nOqRXoc",
      "include_colab_link": true
    },
    "kernelspec": {
      "name": "python3",
      "display_name": "Python 3"
    },
    "language_info": {
      "name": "python"
    }
  },
  "cells": [
    {
      "cell_type": "markdown",
      "metadata": {
        "id": "view-in-github",
        "colab_type": "text"
      },
      "source": [
        "<a href=\"https://colab.research.google.com/github/PranavGovindu/practice/blob/main/fuels.ipynb\" target=\"_parent\"><img src=\"https://colab.research.google.com/assets/colab-badge.svg\" alt=\"Open In Colab\"/></a>"
      ]
    },
    {
      "cell_type": "code",
      "source": [
        "import pandas as pd\n",
        "import numpy as np\n",
        "import torch\n",
        "import torch.nn as nn\n",
        "from sklearn.preprocessing import OneHotEncoder, StandardScaler\n",
        "from sklearn.compose import ColumnTransformer\n",
        "from sklearn.pipeline import Pipeline\n",
        "from sklearn.model_selection import train_test_split\n",
        "from sklearn.base import BaseEstimator, TransformerMixin\n",
        "from torch.utils.data import DataLoader, TensorDataset\n",
        "\n",
        "url = 'http://archive.ics.uci.edu/ml/machine-learning-databases/auto-mpg/auto-mpg.data'\n",
        "column_names = ['MPG', 'Cylinders', 'Displacement', 'Horsepower', 'Weight',\n",
        "                'Acceleration', 'Model Year', 'Origin']\n",
        "df = pd.read_csv(url, names=column_names,\n",
        "                 na_values=\"?\", comment='\\t',\n",
        "                 sep=\" \", skipinitialspace=True)\n",
        "\n",
        "df = df.dropna().reset_index(drop=True)\n",
        "\n",
        "X = df.drop('MPG', axis=1)\n",
        "y = df['MPG']\n",
        "\n",
        "X_train, X_test, y_train, y_test = train_test_split(X, y, train_size=0.8, random_state=1)\n",
        "\n",
        "numeric_columns = ['Cylinders', 'Displacement', 'Horsepower', 'Weight', 'Acceleration', 'Model Year']\n",
        "categorical_columns = ['Origin']\n",
        "\n",
        "class PyTorchRegressor(BaseEstimator, TransformerMixin):\n",
        "    def __init__(self, hidden_units=[8, 4], num_epochs=200, lr=0.001, batch_size=8):\n",
        "        self.hidden_units = hidden_units\n",
        "        self.num_epochs = num_epochs\n",
        "        self.lr = lr\n",
        "        self.batch_size = batch_size\n",
        "        self.model = None\n",
        "\n",
        "    def fit(self, X, y):\n",
        "        X_tensor = torch.tensor(X, dtype=torch.float32)\n",
        "        y_tensor = torch.tensor(y, dtype=torch.float32).view(-1, 1)\n",
        "\n",
        "        dataset = TensorDataset(X_tensor, y_tensor)\n",
        "        train_loader = DataLoader(dataset, batch_size=self.batch_size, shuffle=True)\n",
        "\n",
        "        input_size = X.shape[1]\n",
        "        layers = []\n",
        "        for hidden in self.hidden_units:\n",
        "            layers.append(nn.Linear(input_size, hidden))\n",
        "            layers.append(nn.ReLU())\n",
        "            input_size = hidden\n",
        "        layers.append(nn.Linear(self.hidden_units[-1], 1))\n",
        "\n",
        "        self.model = nn.Sequential(*layers)\n",
        "        loss_fn = nn.MSELoss()\n",
        "        optimizer = torch.optim.SGD(self.model.parameters(), lr=self.lr)\n",
        "\n",
        "        for epoch in range(self.num_epochs):\n",
        "            for x_batch, y_batch in train_loader:\n",
        "                optimizer.zero_grad()\n",
        "                y_pred = self.model(x_batch)\n",
        "                loss = loss_fn(y_pred, y_batch)\n",
        "                loss.backward()\n",
        "                optimizer.step()\n",
        "        return self\n",
        "\n",
        "    def predict(self, X):\n",
        "        with torch.no_grad():\n",
        "            X_tensor = torch.tensor(X, dtype=torch.float32)\n",
        "            return self.model(X_tensor).numpy()\n",
        "    def print_model(self):\n",
        "        print(self.model)\n",
        "\n",
        "preprocessor = ColumnTransformer(\n",
        "    transformers=[\n",
        "        ('num', StandardScaler(), numeric_columns),\n",
        "        ('cat', OneHotEncoder(), categorical_columns)\n",
        "    ]\n",
        ")\n",
        "\n",
        "pipeline = Pipeline(steps=[\n",
        "    ('preprocessor', preprocessor),\n",
        "    ('pytorch_model', PyTorchRegressor(hidden_units=[8, 4], num_epochs=200, lr=0.001, batch_size=8))\n",
        "])\n",
        "\n",
        "pipeline.fit(X_train, y_train)\n",
        "\n",
        "y_pred = pipeline.predict(X_test)\n",
        "\n",
        "mse = np.mean((y_pred.flatten() - y_test.values) ** 2)\n",
        "print(f'Test MSE: {mse:.4f}')\n",
        "pipeline.named_steps['pytorch_model'].print_model()\n"
      ],
      "metadata": {
        "colab": {
          "base_uri": "https://localhost:8080/"
        },
        "id": "IyvHNwn_gLI0",
        "outputId": "f4ee0d32-1c58-4916-cece-68782cb54f28"
      },
      "execution_count": null,
      "outputs": [
        {
          "output_type": "stream",
          "name": "stdout",
          "text": [
            "Test MSE: 9.1546\n",
            "Sequential(\n",
            "  (0): Linear(in_features=9, out_features=8, bias=True)\n",
            "  (1): ReLU()\n",
            "  (2): Linear(in_features=8, out_features=4, bias=True)\n",
            "  (3): ReLU()\n",
            "  (4): Linear(in_features=4, out_features=1, bias=True)\n",
            ")\n"
          ]
        }
      ]
    },
    {
      "cell_type": "code",
      "source": [],
      "metadata": {
        "id": "Kl3G3uz3g7gL"
      },
      "execution_count": null,
      "outputs": []
    }
  ]
}